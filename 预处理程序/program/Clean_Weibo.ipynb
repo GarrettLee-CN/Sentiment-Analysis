{
 "cells": [
  {
   "cell_type": "markdown",
   "metadata": {},
   "source": [
    "# 文本清洗与分句程序"
   ]
  },
  {
   "cell_type": "code",
   "execution_count": 3,
   "metadata": {},
   "outputs": [
    {
     "data": {
      "text/plain": [
       "<module 'sys' (built-in)>"
      ]
     },
     "execution_count": 3,
     "metadata": {},
     "output_type": "execute_result"
    }
   ],
   "source": [
    "import pandas as pd\n",
    "import numpy as np\n",
    "from matplotlib import pyplot as plot\n",
    "get_ipython().run_line_magic('matplotlib', 'inline')#图形出现在Notebook里而不是新窗口\n",
    "import importlib,sys \n",
    "importlib.reload(sys)"
   ]
  },
  {
   "cell_type": "code",
   "execution_count": 6,
   "metadata": {},
   "outputs": [
    {
     "data": {
      "text/html": [
       "<div>\n",
       "<style scoped>\n",
       "    .dataframe tbody tr th:only-of-type {\n",
       "        vertical-align: middle;\n",
       "    }\n",
       "\n",
       "    .dataframe tbody tr th {\n",
       "        vertical-align: top;\n",
       "    }\n",
       "\n",
       "    .dataframe thead th {\n",
       "        text-align: right;\n",
       "    }\n",
       "</style>\n",
       "<table border=\"1\" class=\"dataframe\">\n",
       "  <thead>\n",
       "    <tr style=\"text-align: right;\">\n",
       "      <th></th>\n",
       "      <th>WEIBO_TXT</th>\n",
       "    </tr>\n",
       "  </thead>\n",
       "  <tbody>\n",
       "    <tr>\n",
       "      <th>0</th>\n",
       "      <td>北门路口秋味稻的肉饼味道很不错诶！ 北京·中国传媒大学本校区 ​​​​</td>\n",
       "    </tr>\n",
       "    <tr>\n",
       "      <th>1</th>\n",
       "      <td>记9.8·开班第一天 北京·中国传媒大学本校区 ​​​​</td>\n",
       "    </tr>\n",
       "    <tr>\n",
       "      <th>2</th>\n",
       "      <td>气温骤降Sudden drop in temperature 北京·中国传媒大学本校区 ​​​​</td>\n",
       "    </tr>\n",
       "    <tr>\n",
       "      <th>3</th>\n",
       "      <td>大二💖集结完毕🍻 北京·中国传媒大学本校区 ​​​​</td>\n",
       "    </tr>\n",
       "    <tr>\n",
       "      <th>4</th>\n",
       "      <td>北京750/年的住宿是什么样的?‖北上求学vlog 北京超话中国传媒大学超话北京住宿超话 北...</td>\n",
       "    </tr>\n",
       "  </tbody>\n",
       "</table>\n",
       "</div>"
      ],
      "text/plain": [
       "                                           WEIBO_TXT\n",
       "0                北门路口秋味稻的肉饼味道很不错诶！ 北京·中国传媒大学本校区 ​​​​\n",
       "1                       记9.8·开班第一天 北京·中国传媒大学本校区 ​​​​\n",
       "2   气温骤降Sudden drop in temperature 北京·中国传媒大学本校区 ​​​​\n",
       "3                         大二💖集结完毕🍻 北京·中国传媒大学本校区 ​​​​\n",
       "4  北京750/年的住宿是什么样的?‖北上求学vlog 北京超话中国传媒大学超话北京住宿超话 北..."
      ]
     },
     "execution_count": 6,
     "metadata": {},
     "output_type": "execute_result"
    }
   ],
   "source": [
    "#文本读取\n",
    "dpath=\"./data/\"\n",
    "data = pd.read_csv(dpath+\"prepro_txt.txt\",delimiter='\\t')\n",
    "data.head()"
   ]
  },
  {
   "cell_type": "code",
   "execution_count": 7,
   "metadata": {},
   "outputs": [
    {
     "data": {
      "text/plain": [
       "0                  北门路口秋味稻的肉饼味道很不错诶！ 北京·中国传媒大学本校区 ​​​​\n",
       "1                         记9.8·开班第一天 北京·中国传媒大学本校区 ​​​​\n",
       "2     气温骤降Sudden drop in temperature 北京·中国传媒大学本校区 ​​​​\n",
       "3                           大二💖集结完毕🍻 北京·中国传媒大学本校区 ​​​​\n",
       "4    北京750/年的住宿是什么样的?‖北上求学vlog 北京超话中国传媒大学超话北京住宿超话 北...\n",
       "Name: WEIBO_TXT, dtype: object"
      ]
     },
     "execution_count": 7,
     "metadata": {},
     "output_type": "execute_result"
    }
   ],
   "source": [
    "#单独取出TXT列进行文本预处理\n",
    "preproce_data=data[\"WEIBO_TXT\"]\n",
    "preproce_data.head()"
   ]
  },
  {
   "cell_type": "code",
   "execution_count": 35,
   "metadata": {},
   "outputs": [],
   "source": [
    "import re\n",
    "new_datas=[]\n",
    "for i in range(len(preproce_data)):\n",
    "    new_datas.append(preproce_data[i])#此处处理的目的是将pandas格式的转化成列表的，方便函数调用\n",
    "\n",
    "#预处理函数处理包括特殊字符的文本,注意此处的输入为列表\n",
    "def text_preces(new_datas):\n",
    "    for i in range(len(new_datas)):\n",
    "        new_datas[i] = re.sub(\"@([\\s\\S]*?):\",\"\",new_datas[i])  # 去除@ ...：\n",
    "        new_datas[i] = re.sub(\"\\【([\\S\\s]*?)\\】\",\"\",new_datas[i])  # 【...】\n",
    "        new_datas[i] = re.sub(\"\\[([\\S\\s]*?)\\]\",\"\",new_datas[i])  # 【...】\n",
    "        new_datas[i] = re.sub(\"\\#([\\S\\s]*?)\\#\",\"\",new_datas[i])  # #...#\n",
    "        new_datas[i] = re.sub(\"@([\\s\\S]*?) \",\"\",new_datas[i])  # 去除@某个公众人物的特殊标记,如@王胜男\n",
    "        new_datas[i] = re.sub(\"//@([\\s\\S]*?) \",\"\",new_datas[i])  # 去除@某个公众人物的特殊标记,如@王胜男\n",
    "        new_datas[i] = re.sub(\"//([\\s\\S]*?) \",\"\",new_datas[i])  # 去除@某个公众人物的特殊标记,如@王胜男\n",
    "        new_datas[i] = re.sub(\"客户端\",\"\",new_datas[i])#去除由于采集造成的无关文字\n",
    "        new_datas[i] = re.sub(\"回复\",\"\",new_datas[i])#去除由于采集造成的无关文字\n",
    "        new_datas[i] = re.sub(\"展开全文\",\"\",new_datas[i])#去除由于采集造成的无关文字\n",
    "        new_datas[i] = re.sub(\"收起全文\",\"\",new_datas[i])#去除由于采集造成的无关文字\n",
    "        new_datas[i] = re.sub(\"转发微博\",\"\",new_datas[i])#去除由于采集造成的无关文字\n",
    "        new_datas[i] = re.sub(\"↓\",\"\",new_datas[i])#去除由于采集造成的无关文字 \n",
    "        new_datas[i] = re.sub(\"→\",\"\",new_datas[i])#去除由于采集造成的无关文字\n",
    "        new_datas[i] = re.sub(\"http\",\"\",new_datas[i])#去除由于采集造成的无关文字\n",
    "        new_datas[i] = re.sub(\"WEIBO_TXT\",\"\",new_datas[i])#去除由于采集造成的无关文字\n",
    "        new_datas[i] = re.sub(\",抱歉，由于作者设置，你暂时没有这条微博的查看权限哦。查看帮助：网页链接\",\"\",new_datas[i])#去除由于采集造成的无关文字\n",
    "        new_datas[i] = re.sub(\",抱歉，此微博已被作者删除。查看帮助：网页链接\",\"\",new_datas[i])#去除由于采集造成的无关文字\n",
    "        new_datas[i] = re.sub(\"北京·北京工业大学校本部\",\"\",new_datas[i])#去除由于采集造成的无关文字\n",
    "        new_datas[i] = re.sub(\"天津·天津师范大学\",\"\",new_datas[i])#去除由于采集造成的无关文字\n",
    "        new_datas[i] = re.sub(\"天津·天津大学\",\"\",new_datas[i])#去除由于采集造成的无关文字\n",
    "        new_datas[i] = re.sub(\"北京·北京戏曲艺术职业学院\",\"\",new_datas[i])#去除由于采集造成的无关文字\n",
    "        new_datas[i] = re.sub(\"北京·中国传媒大学本校区\",\"\",new_datas[i])#去除由于采集造成的无关文字\n",
    "        new_datas[i] = re.sub(\"\\u200b\",\"\",new_datas[i])#去除由于采集造成的无关文字\n",
    "        new_datas[i] = re.sub(\"同时开展：网页链接\",\"\",new_datas[i])#去除由于采集造成的无关文字\n",
    "        new_datas[i] = re.sub(\"的微博视频\",\"\",new_datas[i])#去除由于采集造成的无关文字\n",
    "        new_datas[i] = re.sub(\"\\xa0\",\"\",new_datas[i])#去除由于采集造成的无关文字\n",
    "        new_datas[i] = re.sub(\"「\",\"\",new_datas[i])#去除由于采集造成的无关文字\n",
    "        new_datas[i] = re.sub(\"」\",\"\",new_datas[i])#去除由于采集造成的无关文字\n",
    "        new_datas[i] = re.sub(\"\\U0001f966\",\"\",new_datas[i])#去除由于采集造成的无关文字\n",
    "        new_datas[i] = re.sub(\" (北洋园校区) /\",\"\",new_datas[i])#去除由于采集造成的无关文字\n",
    "    return new_datas\n",
    "#函数调用\n",
    "new_datas=text_preces(new_datas)"
   ]
  },
  {
   "cell_type": "code",
   "execution_count": 42,
   "metadata": {},
   "outputs": [
    {
     "data": {
      "text/plain": [
       "1425"
      ]
     },
     "execution_count": 42,
     "metadata": {},
     "output_type": "execute_result"
    }
   ],
   "source": [
    "len(new_datas)"
   ]
  },
  {
   "cell_type": "code",
   "execution_count": 40,
   "metadata": {},
   "outputs": [],
   "source": [
    "clear_data=open('./data/clear_data.txt','w',encoding='utf-8')"
   ]
  },
  {
   "cell_type": "code",
   "execution_count": 44,
   "metadata": {},
   "outputs": [],
   "source": [
    "for i in range(len(new_datas)):\n",
    "    clear_data.write(new_datas[i]) "
   ]
  },
  {
   "cell_type": "code",
   "execution_count": null,
   "metadata": {},
   "outputs": [],
   "source": []
  }
 ],
 "metadata": {
  "kernelspec": {
   "display_name": "Python 3",
   "language": "python",
   "name": "python3"
  },
  "language_info": {
   "codemirror_mode": {
    "name": "ipython",
    "version": 3
   },
   "file_extension": ".py",
   "mimetype": "text/x-python",
   "name": "python",
   "nbconvert_exporter": "python",
   "pygments_lexer": "ipython3",
   "version": "3.6.8"
  }
 },
 "nbformat": 4,
 "nbformat_minor": 2
}
